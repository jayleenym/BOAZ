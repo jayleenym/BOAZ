{
 "cells": [
  {
   "cell_type": "markdown",
   "metadata": {},
   "source": [
    "## 1. Spark Session 만들기"
   ]
  },
  {
   "cell_type": "code",
   "execution_count": 1,
   "metadata": {
    "executionInfo": {
     "elapsed": 4121,
     "status": "ok",
     "timestamp": 1621314245334,
     "user": {
      "displayName": "문예진",
      "photoUrl": "https://lh3.googleusercontent.com/a-/AOh14GiY2MObAEOJKOjOFCziLnok31VvR9CHlsWV02JqH_o=s64",
      "userId": "09812253287698144062"
     },
     "user_tz": -540
    },
    "id": "3kJBJ4FFbEf7"
   },
   "outputs": [],
   "source": [
    "import pandas as pd\n",
    "import pyspark\n",
    "from pyspark.sql import SparkSession "
   ]
  },
  {
   "cell_type": "code",
   "execution_count": 2,
   "metadata": {
    "executionInfo": {
     "elapsed": 10619,
     "status": "ok",
     "timestamp": 1621314251834,
     "user": {
      "displayName": "문예진",
      "photoUrl": "https://lh3.googleusercontent.com/a-/AOh14GiY2MObAEOJKOjOFCziLnok31VvR9CHlsWV02JqH_o=s64",
      "userId": "09812253287698144062"
     },
     "user_tz": -540
    },
    "id": "x1bLJQJqbjQB"
   },
   "outputs": [],
   "source": [
    "# 세션 만들기\n",
    "conf = pyspark.SparkConf().set('spark.driver.host', '127.0.0.1')\n",
    "sc = pyspark.SparkContext(master='local', appName='recommender_system', conf = conf)\n",
    "spark = SparkSession.builder.appName('recommender_system').getOrCreate()"
   ]
  },
  {
   "cell_type": "markdown",
   "metadata": {},
   "source": [
    "## 2. 파일 로드"
   ]
  },
  {
   "cell_type": "code",
   "execution_count": 3,
   "metadata": {
    "colab": {
     "base_uri": "https://localhost:8080/",
     "height": 142
    },
    "executionInfo": {
     "elapsed": 20122,
     "status": "ok",
     "timestamp": 1621314261339,
     "user": {
      "displayName": "문예진",
      "photoUrl": "https://lh3.googleusercontent.com/a-/AOh14GiY2MObAEOJKOjOFCziLnok31VvR9CHlsWV02JqH_o=s64",
      "userId": "09812253287698144062"
     },
     "user_tz": -540
    },
    "id": "fL1Ua0aXbokw",
    "outputId": "9d57c0fb-5550-4311-f64a-282117a18c20"
   },
   "outputs": [
    {
     "data": {
      "text/html": [
       "<div>\n",
       "<style scoped>\n",
       "    .dataframe tbody tr th:only-of-type {\n",
       "        vertical-align: middle;\n",
       "    }\n",
       "\n",
       "    .dataframe tbody tr th {\n",
       "        vertical-align: top;\n",
       "    }\n",
       "\n",
       "    .dataframe thead th {\n",
       "        text-align: right;\n",
       "    }\n",
       "</style>\n",
       "<table border=\"1\" class=\"dataframe\">\n",
       "  <thead>\n",
       "    <tr style=\"text-align: right;\">\n",
       "      <th></th>\n",
       "      <th>userId</th>\n",
       "      <th>rating</th>\n",
       "      <th>movieId</th>\n",
       "      <th>title</th>\n",
       "      <th>genres</th>\n",
       "    </tr>\n",
       "  </thead>\n",
       "  <tbody>\n",
       "    <tr>\n",
       "      <th>0</th>\n",
       "      <td>1</td>\n",
       "      <td>5</td>\n",
       "      <td>1193</td>\n",
       "      <td>One Flew Over the Cuckoo's Nest (1975)</td>\n",
       "      <td>Drama</td>\n",
       "    </tr>\n",
       "    <tr>\n",
       "      <th>1</th>\n",
       "      <td>2</td>\n",
       "      <td>5</td>\n",
       "      <td>1193</td>\n",
       "      <td>One Flew Over the Cuckoo's Nest (1975)</td>\n",
       "      <td>Drama</td>\n",
       "    </tr>\n",
       "    <tr>\n",
       "      <th>2</th>\n",
       "      <td>12</td>\n",
       "      <td>4</td>\n",
       "      <td>1193</td>\n",
       "      <td>One Flew Over the Cuckoo's Nest (1975)</td>\n",
       "      <td>Drama</td>\n",
       "    </tr>\n",
       "  </tbody>\n",
       "</table>\n",
       "</div>"
      ],
      "text/plain": [
       "   userId  rating  movieId                                   title genres\n",
       "0       1       5     1193  One Flew Over the Cuckoo's Nest (1975)  Drama\n",
       "1       2       5     1193  One Flew Over the Cuckoo's Nest (1975)  Drama\n",
       "2      12       4     1193  One Flew Over the Cuckoo's Nest (1975)  Drama"
      ]
     },
     "execution_count": 3,
     "metadata": {},
     "output_type": "execute_result"
    }
   ],
   "source": [
    "df = spark.read.csv('./movie_ratings_1m.csv', inferSchema = True, header = True)\n",
    "\n",
    "df.limit(3).toPandas()"
   ]
  },
  {
   "cell_type": "code",
   "execution_count": 4,
   "metadata": {
    "colab": {
     "base_uri": "https://localhost:8080/"
    },
    "executionInfo": {
     "elapsed": 20118,
     "status": "ok",
     "timestamp": 1621314261340,
     "user": {
      "displayName": "문예진",
      "photoUrl": "https://lh3.googleusercontent.com/a-/AOh14GiY2MObAEOJKOjOFCziLnok31VvR9CHlsWV02JqH_o=s64",
      "userId": "09812253287698144062"
     },
     "user_tz": -540
    },
    "id": "LHotKW6hbwkb",
    "outputId": "ee658821-0aed-4bb4-aaeb-c543ea2550fa"
   },
   "outputs": [
    {
     "name": "stdout",
     "output_type": "stream",
     "text": [
      "root\n",
      " |-- userId: integer (nullable = true)\n",
      " |-- rating: integer (nullable = true)\n",
      " |-- movieId: integer (nullable = true)\n",
      " |-- title: string (nullable = true)\n",
      " |-- genres: string (nullable = true)\n",
      "\n"
     ]
    }
   ],
   "source": [
    "df.printSchema()"
   ]
  },
  {
   "cell_type": "markdown",
   "metadata": {},
   "source": [
    "### String은 학습 되지 않음. Index로 변환"
   ]
  },
  {
   "cell_type": "code",
   "execution_count": 5,
   "metadata": {
    "colab": {
     "base_uri": "https://localhost:8080/",
     "height": 204
    },
    "executionInfo": {
     "elapsed": 25304,
     "status": "ok",
     "timestamp": 1621314266531,
     "user": {
      "displayName": "문예진",
      "photoUrl": "https://lh3.googleusercontent.com/a-/AOh14GiY2MObAEOJKOjOFCziLnok31VvR9CHlsWV02JqH_o=s64",
      "userId": "09812253287698144062"
     },
     "user_tz": -540
    },
    "id": "vFa-L1KAiDs-",
    "outputId": "f12eaf01-b53a-4762-fc32-4528ce60e824"
   },
   "outputs": [
    {
     "data": {
      "text/html": [
       "<div>\n",
       "<style scoped>\n",
       "    .dataframe tbody tr th:only-of-type {\n",
       "        vertical-align: middle;\n",
       "    }\n",
       "\n",
       "    .dataframe tbody tr th {\n",
       "        vertical-align: top;\n",
       "    }\n",
       "\n",
       "    .dataframe thead th {\n",
       "        text-align: right;\n",
       "    }\n",
       "</style>\n",
       "<table border=\"1\" class=\"dataframe\">\n",
       "  <thead>\n",
       "    <tr style=\"text-align: right;\">\n",
       "      <th></th>\n",
       "      <th>userId</th>\n",
       "      <th>rating</th>\n",
       "      <th>movieId</th>\n",
       "      <th>title</th>\n",
       "      <th>genres</th>\n",
       "      <th>title_new</th>\n",
       "    </tr>\n",
       "  </thead>\n",
       "  <tbody>\n",
       "    <tr>\n",
       "      <th>0</th>\n",
       "      <td>1</td>\n",
       "      <td>5</td>\n",
       "      <td>1193</td>\n",
       "      <td>One Flew Over the Cuckoo's Nest (1975)</td>\n",
       "      <td>Drama</td>\n",
       "      <td>43.0</td>\n",
       "    </tr>\n",
       "    <tr>\n",
       "      <th>1</th>\n",
       "      <td>2</td>\n",
       "      <td>5</td>\n",
       "      <td>1193</td>\n",
       "      <td>One Flew Over the Cuckoo's Nest (1975)</td>\n",
       "      <td>Drama</td>\n",
       "      <td>43.0</td>\n",
       "    </tr>\n",
       "    <tr>\n",
       "      <th>2</th>\n",
       "      <td>12</td>\n",
       "      <td>4</td>\n",
       "      <td>1193</td>\n",
       "      <td>One Flew Over the Cuckoo's Nest (1975)</td>\n",
       "      <td>Drama</td>\n",
       "      <td>43.0</td>\n",
       "    </tr>\n",
       "    <tr>\n",
       "      <th>3</th>\n",
       "      <td>15</td>\n",
       "      <td>4</td>\n",
       "      <td>1193</td>\n",
       "      <td>One Flew Over the Cuckoo's Nest (1975)</td>\n",
       "      <td>Drama</td>\n",
       "      <td>43.0</td>\n",
       "    </tr>\n",
       "    <tr>\n",
       "      <th>4</th>\n",
       "      <td>17</td>\n",
       "      <td>5</td>\n",
       "      <td>1193</td>\n",
       "      <td>One Flew Over the Cuckoo's Nest (1975)</td>\n",
       "      <td>Drama</td>\n",
       "      <td>43.0</td>\n",
       "    </tr>\n",
       "  </tbody>\n",
       "</table>\n",
       "</div>"
      ],
      "text/plain": [
       "   userId  rating  movieId                                   title genres  \\\n",
       "0       1       5     1193  One Flew Over the Cuckoo's Nest (1975)  Drama   \n",
       "1       2       5     1193  One Flew Over the Cuckoo's Nest (1975)  Drama   \n",
       "2      12       4     1193  One Flew Over the Cuckoo's Nest (1975)  Drama   \n",
       "3      15       4     1193  One Flew Over the Cuckoo's Nest (1975)  Drama   \n",
       "4      17       5     1193  One Flew Over the Cuckoo's Nest (1975)  Drama   \n",
       "\n",
       "   title_new  \n",
       "0       43.0  \n",
       "1       43.0  \n",
       "2       43.0  \n",
       "3       43.0  \n",
       "4       43.0  "
      ]
     },
     "execution_count": 5,
     "metadata": {},
     "output_type": "execute_result"
    }
   ],
   "source": [
    "from pyspark.ml.feature import StringIndexer\n",
    "# # string -> integer\n",
    "stringIndexer = StringIndexer(inputCol = 'title', outputCol = 'title_new')\n",
    "\n",
    "# # title에 적용\n",
    "model = stringIndexer.fit(df)\n",
    "\n",
    "# # 새로운 DataFrame w/ title_new\n",
    "indexed = model.transform(df)\n",
    "\n",
    "indexed.limit(5).toPandas()\n",
    "\n",
    "\n",
    "# # 나중에 다시 String으로 바꿔주기\n",
    "# movie_title = IndexToString(inputCol = \"title_new\", outputCol = \"title\", labels = model.labels)"
   ]
  },
  {
   "cell_type": "markdown",
   "metadata": {},
   "source": [
    "## 3. 모델 학습 - ALS"
   ]
  },
  {
   "cell_type": "code",
   "execution_count": 6,
   "metadata": {
    "executionInfo": {
     "elapsed": 56547,
     "status": "ok",
     "timestamp": 1621314297779,
     "user": {
      "displayName": "문예진",
      "photoUrl": "https://lh3.googleusercontent.com/a-/AOh14GiY2MObAEOJKOjOFCziLnok31VvR9CHlsWV02JqH_o=s64",
      "userId": "09812253287698144062"
     },
     "user_tz": -540
    },
    "id": "51YXyALsi1TJ"
   },
   "outputs": [],
   "source": [
    "train, test = df.randomSplit([0.8, 0.2])\n",
    "\n",
    "# Alternating Least Squares 알고리즘 사용 (추천시스템)\n",
    "from pyspark.ml.recommendation import ALS\n",
    "\n",
    "als = ALS( maxIter = 10\n",
    "                , regParam = 0.01\n",
    "                , userCol = 'userId'\n",
    "                , itemCol = 'movieId'\n",
    "                , ratingCol = 'rating'\n",
    "                , nonnegative = True\n",
    "                , coldStartStrategy = 'drop')\n",
    "\n",
    "model_rec = als.fit(train)"
   ]
  },
  {
   "cell_type": "markdown",
   "metadata": {},
   "source": [
    "### 모델 튜닝, CrossValidation"
   ]
  },
  {
   "cell_type": "code",
   "execution_count": null,
   "metadata": {},
   "outputs": [],
   "source": [
    "# from pyspark.ml.tuning import CrossValidator, ParamGridBuilder\n",
    "# # Model Tuning\n",
    "# param_grid = ParamGridBuilder().addGrid(als.rank, [12, 13, 14])\\\n",
    "#                                .addGrid(als.maxIter, [18, 19, 20])\\\n",
    "#                                .addGrid(als.regParam, [.17, .18, .19])\\\n",
    "#                                .build()\n",
    "# # CrossValidation 만들기\n",
    "# cv = CrossValidator(estimator = als, estimatorParamMaps = param_grid, evaluator = re, numFolds = 3)\n",
    "\n",
    "# # fitting\n",
    "# model = cv.fit(train)\n",
    "# # best tuning\n",
    "# best_model = model.bestModel\n",
    "\n",
    "# print(f\"\"\"***Best Model***\n",
    "# Rank: {best_model.rank}\n",
    "# MaxIter: {best_model._java_obj.parent().getMaxIter()}\n",
    "# RegParam: {best_model._java_obj.parent().getRegParam()}\"\"\")"
   ]
  },
  {
   "cell_type": "markdown",
   "metadata": {},
   "source": [
    "## 4. 모델 예측"
   ]
  },
  {
   "cell_type": "code",
   "execution_count": 7,
   "metadata": {
    "colab": {
     "base_uri": "https://localhost:8080/",
     "height": 204
    },
    "executionInfo": {
     "elapsed": 79393,
     "status": "ok",
     "timestamp": 1621314320627,
     "user": {
      "displayName": "문예진",
      "photoUrl": "https://lh3.googleusercontent.com/a-/AOh14GiY2MObAEOJKOjOFCziLnok31VvR9CHlsWV02JqH_o=s64",
      "userId": "09812253287698144062"
     },
     "user_tz": -540
    },
    "id": "qX_rKPW4j4Vr",
    "outputId": "54493fbd-4b87-4004-ae79-e2803d5570fe"
   },
   "outputs": [
    {
     "data": {
      "text/html": [
       "<div>\n",
       "<style scoped>\n",
       "    .dataframe tbody tr th:only-of-type {\n",
       "        vertical-align: middle;\n",
       "    }\n",
       "\n",
       "    .dataframe tbody tr th {\n",
       "        vertical-align: top;\n",
       "    }\n",
       "\n",
       "    .dataframe thead th {\n",
       "        text-align: right;\n",
       "    }\n",
       "</style>\n",
       "<table border=\"1\" class=\"dataframe\">\n",
       "  <thead>\n",
       "    <tr style=\"text-align: right;\">\n",
       "      <th></th>\n",
       "      <th>userId</th>\n",
       "      <th>rating</th>\n",
       "      <th>movieId</th>\n",
       "      <th>title</th>\n",
       "      <th>genres</th>\n",
       "      <th>prediction</th>\n",
       "    </tr>\n",
       "  </thead>\n",
       "  <tbody>\n",
       "    <tr>\n",
       "      <th>0</th>\n",
       "      <td>4169</td>\n",
       "      <td>3</td>\n",
       "      <td>148</td>\n",
       "      <td>Awfully Big Adventure, An (1995)</td>\n",
       "      <td>Drama</td>\n",
       "      <td>2.515118</td>\n",
       "    </tr>\n",
       "    <tr>\n",
       "      <th>1</th>\n",
       "      <td>4227</td>\n",
       "      <td>2</td>\n",
       "      <td>148</td>\n",
       "      <td>Awfully Big Adventure, An (1995)</td>\n",
       "      <td>Drama</td>\n",
       "      <td>1.179191</td>\n",
       "    </tr>\n",
       "    <tr>\n",
       "      <th>2</th>\n",
       "      <td>5333</td>\n",
       "      <td>3</td>\n",
       "      <td>148</td>\n",
       "      <td>Awfully Big Adventure, An (1995)</td>\n",
       "      <td>Drama</td>\n",
       "      <td>1.961666</td>\n",
       "    </tr>\n",
       "    <tr>\n",
       "      <th>3</th>\n",
       "      <td>3184</td>\n",
       "      <td>4</td>\n",
       "      <td>148</td>\n",
       "      <td>Awfully Big Adventure, An (1995)</td>\n",
       "      <td>Drama</td>\n",
       "      <td>2.068614</td>\n",
       "    </tr>\n",
       "    <tr>\n",
       "      <th>4</th>\n",
       "      <td>2383</td>\n",
       "      <td>2</td>\n",
       "      <td>148</td>\n",
       "      <td>Awfully Big Adventure, An (1995)</td>\n",
       "      <td>Drama</td>\n",
       "      <td>3.490967</td>\n",
       "    </tr>\n",
       "  </tbody>\n",
       "</table>\n",
       "</div>"
      ],
      "text/plain": [
       "   userId  rating  movieId                             title genres  \\\n",
       "0    4169       3      148  Awfully Big Adventure, An (1995)  Drama   \n",
       "1    4227       2      148  Awfully Big Adventure, An (1995)  Drama   \n",
       "2    5333       3      148  Awfully Big Adventure, An (1995)  Drama   \n",
       "3    3184       4      148  Awfully Big Adventure, An (1995)  Drama   \n",
       "4    2383       2      148  Awfully Big Adventure, An (1995)  Drama   \n",
       "\n",
       "   prediction  \n",
       "0    2.515118  \n",
       "1    1.179191  \n",
       "2    1.961666  \n",
       "3    2.068614  \n",
       "4    3.490967  "
      ]
     },
     "execution_count": 7,
     "metadata": {},
     "output_type": "execute_result"
    }
   ],
   "source": [
    "# test set에 prediction\n",
    "predict = model_rec.transform(test)\n",
    "\n",
    "predict.limit(5).toPandas()"
   ]
  },
  {
   "cell_type": "markdown",
   "metadata": {},
   "source": [
    "## 5. 모델 평가"
   ]
  },
  {
   "cell_type": "code",
   "execution_count": 8,
   "metadata": {
    "colab": {
     "base_uri": "https://localhost:8080/"
    },
    "executionInfo": {
     "elapsed": 105431,
     "status": "ok",
     "timestamp": 1621314346669,
     "user": {
      "displayName": "문예진",
      "photoUrl": "https://lh3.googleusercontent.com/a-/AOh14GiY2MObAEOJKOjOFCziLnok31VvR9CHlsWV02JqH_o=s64",
      "userId": "09812253287698144062"
     },
     "user_tz": -540
    },
    "id": "v1Z7IEMjkcai",
    "outputId": "34d49f9d-dbf2-4fd7-88bb-e46c4bd6113f"
   },
   "outputs": [
    {
     "name": "stdout",
     "output_type": "stream",
     "text": [
      "0.8767460345292515\n"
     ]
    }
   ],
   "source": [
    "# evaluate\n",
    "from pyspark.ml.evaluation import RegressionEvaluator # RMSE로 평가\n",
    "\n",
    "eva = RegressionEvaluator(metricName = 'rmse', predictionCol = 'prediction', labelCol = 'rating')\n",
    "rmse = eva.evaluate(predict)\n",
    "\n",
    "print(rmse) # RMSE error"
   ]
  },
  {
   "cell_type": "markdown",
   "metadata": {},
   "source": [
    "## 6. 모델 활용 - 영화 추천"
   ]
  },
  {
   "cell_type": "code",
   "execution_count": 9,
   "metadata": {},
   "outputs": [
    {
     "name": "stdout",
     "output_type": "stream",
     "text": [
      "+------+--------------------+\n",
      "|userId|     recommendations|\n",
      "+------+--------------------+\n",
      "|  1580|[{138, 7.2524557}...|\n",
      "|  4900|[{526, 12.725696}...|\n",
      "|  5300|[{138, 6.8905187}...|\n",
      "|   471|[{729, 7.4960527}...|\n",
      "|  1591|[{3303, 7.1923237...|\n",
      "|  4101|[{1543, 8.326898}...|\n",
      "|  1342|[{2129, 6.090068}...|\n",
      "|  2122|[{2129, 7.3840494...|\n",
      "|  2142|[{1743, 5.8823133...|\n",
      "|   463|[{858, 4.875755},...|\n",
      "|   833|[{1539, 8.99252},...|\n",
      "|  5803|[{729, 9.003023},...|\n",
      "|  3794|[{1038, 8.852898}...|\n",
      "|  1645|[{526, 8.551011},...|\n",
      "|  3175|[{2192, 5.6945477...|\n",
      "|  4935|[{2063, 6.6553025...|\n",
      "|   496|[{138, 10.358892}...|\n",
      "|  2366|[{138, 10.632306}...|\n",
      "|  2866|[{1930, 8.039445}...|\n",
      "|  5156|[{687, 6.6893735}...|\n",
      "+------+--------------------+\n",
      "only showing top 20 rows\n",
      "\n"
     ]
    }
   ],
   "source": [
    "model_rec.recommendForAllUsers(10).show()"
   ]
  },
  {
   "cell_type": "code",
   "execution_count": 10,
   "metadata": {},
   "outputs": [],
   "source": [
    "def get_recommendation(user_id, n):\n",
    "    user_recommend = model_rec.recommendForAllUsers(n) # top n for all users\n",
    "    recs = user_recommend.filter(user_recommend['userId'] == user_id)\n",
    "    recs = recs.select('recommendations.movieId', 'recommendations.rating')\n",
    "    movies = recs.select('movieId').toPandas().iloc[0, 0]\n",
    "    ratings = recs.select('rating').toPandas().iloc[0, 0]\n",
    "    ratings_matrix = pd.DataFrame(movies, columns = ['movieId'])\n",
    "    ratings_matrix['ratings'] = ratings\n",
    "    ratings_matrix = ratings_matrix.merge(df.toPandas()[['movieId', 'title', 'genres']], \n",
    "                                          on = 'movieId').drop_duplicates().reset_index(drop = True)\n",
    "    ratings_matrix_ps = spark.createDataFrame(ratings_matrix)\n",
    "    return ratings_matrix_ps.show(n, False)"
   ]
  },
  {
   "cell_type": "code",
   "execution_count": 11,
   "metadata": {},
   "outputs": [
    {
     "name": "stdout",
     "output_type": "stream",
     "text": [
      "+-------+-----------------+-----------------------------------------------------------------+--------------+\n",
      "|movieId|ratings          |title                                                            |genres        |\n",
      "+-------+-----------------+-----------------------------------------------------------------+--------------+\n",
      "|138    |7.252455711364746|Neon Bible, The (1995)                                           |Drama         |\n",
      "|687    |6.092929840087891|Country Life (1994)                                              |Drama|Romance |\n",
      "|1664   |6.053616523742676|N�nette et Boni (1996)                                           |Drama         |\n",
      "|2933   |6.028502464294434|Fire Within, The (Le Feu Follet) (1963)                          |Drama         |\n",
      "|729    |5.852004051208496|Institute Benjamenta, or This Dream People Call Human Life (1995)|Drama         |\n",
      "|2962   |5.806504249572754|Fever Pitch (1997)                                               |Comedy|Romance|\n",
      "+-------+-----------------+-----------------------------------------------------------------+--------------+\n",
      "\n"
     ]
    }
   ],
   "source": [
    "get_recommendation(1580, 6)"
   ]
  },
  {
   "cell_type": "code",
   "execution_count": 12,
   "metadata": {},
   "outputs": [],
   "source": [
    "spark.stop()"
   ]
  },
  {
   "cell_type": "code",
   "execution_count": null,
   "metadata": {},
   "outputs": [],
   "source": []
  }
 ],
 "metadata": {
  "colab": {
   "authorship_tag": "ABX9TyNHX4e0ZzVO9c0dcnnBGVbG",
   "collapsed_sections": [],
   "mount_file_id": "1LPqOXIQy9d0WGBnw3RjXMHEu_psIsF_P",
   "name": "Movie Recommendation with  Pyspark.ipynb",
   "provenance": []
  },
  "kernelspec": {
   "display_name": "Python 3",
   "language": "python",
   "name": "python3"
  },
  "language_info": {
   "codemirror_mode": {
    "name": "ipython",
    "version": 3
   },
   "file_extension": ".py",
   "mimetype": "text/x-python",
   "name": "python",
   "nbconvert_exporter": "python",
   "pygments_lexer": "ipython3",
   "version": "3.8.5"
  }
 },
 "nbformat": 4,
 "nbformat_minor": 1
}
